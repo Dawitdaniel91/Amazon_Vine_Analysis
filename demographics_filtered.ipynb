{
  "nbformat": 4,
  "nbformat_minor": 0,
  "metadata": {
    "colab": {
      "name": "demographics_filtered.ipynb",
      "provenance": [],
      "include_colab_link": true
    },
    "kernelspec": {
      "display_name": "Python 3",
      "language": "python",
      "name": "python3"
    },
    "language_info": {
      "codemirror_mode": {
        "name": "ipython",
        "version": 3
      },
      "file_extension": ".py",
      "mimetype": "text/x-python",
      "name": "python",
      "nbconvert_exporter": "python",
      "pygments_lexer": "ipython3",
      "version": "3.8.3"
    },
    "latex_envs": {
      "LaTeX_envs_menu_present": true,
      "autoclose": false,
      "autocomplete": true,
      "bibliofile": "biblio.bib",
      "cite_by": "apalike",
      "current_citInitial": 1,
      "eqLabelWithNumbers": true,
      "eqNumInitial": 1,
      "hotkeys": {
        "equation": "Ctrl-E",
        "itemize": "Ctrl-I"
      },
      "labels_anchors": false,
      "latex_user_defs": false,
      "report_style_numbering": false,
      "user_envs_cfg": false
    }
  },
  "cells": [
    {
      "cell_type": "markdown",
      "metadata": {
        "id": "view-in-github",
        "colab_type": "text"
      },
      "source": [
        "<a href=\"https://colab.research.google.com/github/Dawitdaniel91/Amazon_Vine_Analysis/blob/main/demographics_filtered.ipynb\" target=\"_parent\"><img src=\"https://colab.research.google.com/assets/colab-badge.svg\" alt=\"Open In Colab\"/></a>"
      ]
    },
    {
      "cell_type": "code",
      "metadata": {
        "colab": {
          "base_uri": "https://localhost:8080/"
        },
        "id": "nkEwFQ26c4g8",
        "outputId": "ae89e184-a5c5-4d49-8ee0-1673693b4c1d"
      },
      "source": [
        "import os\n",
        "# Find the latest version of spark 3.0  from http://www-us.apache.org/dist/spark/ and enter as the spark version\n",
        "# For example:\n",
        "# spark_version = 'spark-3.0.2'\n",
        "spark_version = 'spark-3.1.2'\n",
        "os.environ['SPARK_VERSION']=spark_version\n",
        "\n",
        "# Install Spark and Java\n",
        "!apt-get update\n",
        "!apt-get install openjdk-11-jdk-headless -qq > /dev/null\n",
        "!wget -q http://www-us.apache.org/dist/spark/$SPARK_VERSION/$SPARK_VERSION-bin-hadoop2.7.tgz\n",
        "!tar xf $SPARK_VERSION-bin-hadoop2.7.tgz\n",
        "!pip install -q findspark\n",
        "\n",
        "# Set Environment Variables\n",
        "os.environ[\"JAVA_HOME\"] = \"/usr/lib/jvm/java-11-openjdk-amd64\"\n",
        "os.environ[\"SPARK_HOME\"] = f\"/content/{spark_version}-bin-hadoop2.7\"\n",
        "\n",
        "# Start a SparkSession\n",
        "import findspark\n",
        "findspark.init()"
      ],
      "execution_count": null,
      "outputs": [
        {
          "output_type": "stream",
          "text": [
            "\r0% [Working]\r            \rGet:1 http://security.ubuntu.com/ubuntu bionic-security InRelease [88.7 kB]\n",
            "\r0% [Connecting to archive.ubuntu.com (91.189.88.152)] [1 InRelease 14.2 kB/88.7\r0% [Waiting for headers] [Waiting for headers] [Waiting for headers] [Waiting f\r                                                                               \rIgn:2 https://developer.download.nvidia.com/compute/cuda/repos/ubuntu1804/x86_64  InRelease\n",
            "Hit:3 https://cloud.r-project.org/bin/linux/ubuntu bionic-cran40/ InRelease\n",
            "Hit:4 http://ppa.launchpad.net/c2d4u.team/c2d4u4.0+/ubuntu bionic InRelease\n",
            "Hit:5 http://archive.ubuntu.com/ubuntu bionic InRelease\n",
            "Ign:6 https://developer.download.nvidia.com/compute/machine-learning/repos/ubuntu1804/x86_64  InRelease\n",
            "Get:7 https://developer.download.nvidia.com/compute/cuda/repos/ubuntu1804/x86_64  Release [697 B]\n",
            "Hit:8 https://developer.download.nvidia.com/compute/machine-learning/repos/ubuntu1804/x86_64  Release\n",
            "Get:9 https://developer.download.nvidia.com/compute/cuda/repos/ubuntu1804/x86_64  Release.gpg [836 B]\n",
            "Get:10 http://archive.ubuntu.com/ubuntu bionic-updates InRelease [88.7 kB]\n",
            "Hit:11 http://ppa.launchpad.net/cran/libgit2/ubuntu bionic InRelease\n",
            "Get:12 http://security.ubuntu.com/ubuntu bionic-security/universe amd64 Packages [1,415 kB]\n",
            "Get:13 http://ppa.launchpad.net/deadsnakes/ppa/ubuntu bionic InRelease [15.9 kB]\n",
            "Get:14 http://archive.ubuntu.com/ubuntu bionic-backports InRelease [74.6 kB]\n",
            "Get:15 http://security.ubuntu.com/ubuntu bionic-security/main amd64 Packages [2,185 kB]\n",
            "Hit:16 http://ppa.launchpad.net/graphics-drivers/ppa/ubuntu bionic InRelease\n",
            "Ign:18 https://developer.download.nvidia.com/compute/cuda/repos/ubuntu1804/x86_64  Packages\n",
            "Get:18 https://developer.download.nvidia.com/compute/cuda/repos/ubuntu1804/x86_64  Packages [599 kB]\n",
            "Get:19 http://archive.ubuntu.com/ubuntu bionic-updates/universe amd64 Packages [2,185 kB]\n",
            "Get:20 http://ppa.launchpad.net/deadsnakes/ppa/ubuntu bionic/main amd64 Packages [40.9 kB]\n",
            "Get:21 http://archive.ubuntu.com/ubuntu bionic-updates/main amd64 Packages [2,619 kB]\n",
            "Fetched 9,312 kB in 3s (2,735 kB/s)\n",
            "Reading package lists... Done\n"
          ],
          "name": "stdout"
        }
      ]
    },
    {
      "cell_type": "code",
      "metadata": {
        "id": "Ckw76VcSNpAo"
      },
      "source": [
        "# Start Spark session\n",
        "from pyspark.sql import SparkSession\n",
        "spark = SparkSession.builder.appName(\"demographicsFilter\").getOrCreate()"
      ],
      "execution_count": null,
      "outputs": []
    },
    {
      "cell_type": "code",
      "metadata": {
        "colab": {
          "base_uri": "https://localhost:8080/"
        },
        "id": "jMu2k5TBc9gu",
        "outputId": "000bbf8f-53c0-47de-b88a-b0349de32871"
      },
      "source": [
        "# Read in data from S3 Buckets\n",
        "from pyspark import SparkFiles\n",
        "url = \"https://s3.amazonaws.com/dataviz-curriculum/day_1/demographics.csv\"\n",
        "spark.sparkContext.addFile(url)\n",
        "df = spark.read.option('header', 'true').csv(SparkFiles.get(\"demographics.csv\"), inferSchema=True, sep=',')\n",
        "\n",
        "# Show DataFrame\n",
        "df.show()"
      ],
      "execution_count": null,
      "outputs": [
        {
          "output_type": "stream",
          "text": [
            "+---+--------------------+---+------------+---------+--------+------------------+---------------+------+-------------+\n",
            "| id|                name|age|height_meter|weight_kg|children|        occupation|academic_degree|salary|     location|\n",
            "+---+--------------------+---+------------+---------+--------+------------------+---------------+------+-------------+\n",
            "|  0|       Darlena Avila| 58|        1.87|       53|       1|     Choreographer|            PhD|    68| South Dakota|\n",
            "|  1|            Yan Boyd| 65|         1.8|       40|       0|         Cellarman|       Bachelor|    73|     Delaware|\n",
            "|  2|         Joette Lane| 32|         1.8|       73|       1|Veterinary Surgeon|         Master|    69| South Dakota|\n",
            "|  3|        Jazmine Hunt| 61|        1.79|       89|       0|            Hawker|            PhD|    88|    Louisiana|\n",
            "|  4|      Remedios Gomez| 23|        1.64|       51|       2|     Choreographer|       Bachelor|    83|West Virginia|\n",
            "|  5|        Myung Brewer| 20|        1.68|       60|       4|    Window Dresser|       Bachelor|    65| South Dakota|\n",
            "|  6|         Shaun Lynch| 31|        1.56|       62|       0|            Weaver|         Master|    72|    Louisiana|\n",
            "|  7|     Melodi Mcdowell| 56|         1.6|       42|       0| Lighthouse Keeper|         Master|    65|    Louisiana|\n",
            "|  8|Charlesetta Steve...| 30|        1.62|       44|       3|        Millwright|         Master|    87|    Louisiana|\n",
            "|  9|       Merri Charles| 44|        1.69|       51|       5|  Medical Supplier|            PhD|    72|West Virginia|\n",
            "| 10|        Cassi Meyers| 55|        1.82|       72|       5|        Manicurist|       Bachelor|    73| South Dakota|\n",
            "| 11|      Shawnee Harmon| 66|        1.63|       78|       5| Medical Physicist|            PhD|    90|     Delaware|\n",
            "| 12|       Lyndia Spears| 62|        1.88|       41|       1|         Assistant|         Master|    78|       Alaska|\n",
            "| 13|          Page Evans| 35|        1.53|       74|       5|         Paramedic|       Bachelor|    69|     Delaware|\n",
            "| 14|        Telma Hebert| 66|        1.94|       79|       3|       Genealogist|         Master|    75| South Dakota|\n",
            "| 15|      Edelmira Drake| 23|        1.87|       72|       2|           Servant|            PhD|    77| South Dakota|\n",
            "| 16|       Oscar Guthrie| 40|        1.61|       46|       4| Technical Liaison|       Bachelor|    76|    Louisiana|\n",
            "| 17|   Bernardina Strong| 34|        1.55|       78|       1|         Scientist|            PhD|    90| South Dakota|\n",
            "| 18|        Caprice Hart| 64|        1.69|       67|       4|   Market Research|            PhD|    79|    Louisiana|\n",
            "| 19|         Alleen Pace| 25|        1.86|       81|       4|  Medical Supplier|            PhD|    77| South Dakota|\n",
            "+---+--------------------+---+------------+---------+--------+------------------+---------------+------+-------------+\n",
            "only showing top 20 rows\n",
            "\n"
          ],
          "name": "stdout"
        }
      ]
    },
    {
      "cell_type": "code",
      "metadata": {
        "colab": {
          "base_uri": "https://localhost:8080/"
        },
        "id": "4mkTOp6jc-Ke",
        "outputId": "3c937d9b-cb29-4235-ead5-ff46ba86cb78"
      },
      "source": [
        "# What occupation had the highest salary?\n",
        "df.groupby(\"occupation\").max(\"salary\").show()"
      ],
      "execution_count": null,
      "outputs": [
        {
          "output_type": "stream",
          "text": [
            "+-------------------+-----------+\n",
            "|         occupation|max(salary)|\n",
            "+-------------------+-----------+\n",
            "|          Scientist|         90|\n",
            "|    Technical Clerk|         89|\n",
            "|          Off Shore|         71|\n",
            "|      Goods Handler|         82|\n",
            "| Textile Consultant|         78|\n",
            "|       Road Sweeper|         73|\n",
            "|             Porter|         67|\n",
            "|       Tree Surgeon|         73|\n",
            "| Medical Researcher|         72|\n",
            "|      Laundry Staff|         81|\n",
            "|   Ice Cream Vendor|         68|\n",
            "|         Oil Broker|         80|\n",
            "|    Marine Engineer|         66|\n",
            "|       Lithographer|         87|\n",
            "|      Screen Writer|         68|\n",
            "|        Tyre Fitter|         83|\n",
            "|          Cellarman|         73|\n",
            "|Gaming Club Manager|         65|\n",
            "|  Acoustic Engineer|         88|\n",
            "|     Screen Printer|         80|\n",
            "+-------------------+-----------+\n",
            "only showing top 20 rows\n",
            "\n"
          ],
          "name": "stdout"
        }
      ]
    },
    {
      "cell_type": "code",
      "metadata": {
        "colab": {
          "base_uri": "https://localhost:8080/"
        },
        "id": "yEdZk7lXdJG2",
        "outputId": "f7b8815b-5d15-40d6-e743-8a9c934c996a"
      },
      "source": [
        "# What occupation had the lowest salary?\n",
        "df.groupby(\"occupation\").min(\"salary\").show()\n"
      ],
      "execution_count": 58,
      "outputs": [
        {
          "output_type": "stream",
          "text": [
            "+-------------------+-----------+\n",
            "|         occupation|min(salary)|\n",
            "+-------------------+-----------+\n",
            "|          Scientist|         71|\n",
            "|    Technical Clerk|         67|\n",
            "|          Off Shore|         66|\n",
            "|      Goods Handler|         82|\n",
            "| Textile Consultant|         73|\n",
            "|       Road Sweeper|         73|\n",
            "|             Porter|         67|\n",
            "|       Tree Surgeon|         70|\n",
            "| Medical Researcher|         72|\n",
            "|      Laundry Staff|         77|\n",
            "|   Ice Cream Vendor|         68|\n",
            "|         Oil Broker|         74|\n",
            "|    Marine Engineer|         66|\n",
            "|       Lithographer|         69|\n",
            "|      Screen Writer|         68|\n",
            "|        Tyre Fitter|         83|\n",
            "|          Cellarman|         73|\n",
            "|Gaming Club Manager|         65|\n",
            "|  Acoustic Engineer|         88|\n",
            "|     Screen Printer|         73|\n",
            "+-------------------+-----------+\n",
            "only showing top 20 rows\n",
            "\n"
          ],
          "name": "stdout"
        }
      ]
    },
    {
      "cell_type": "code",
      "metadata": {
        "colab": {
          "base_uri": "https://localhost:8080/"
        },
        "id": "31aj7ATsdKVV",
        "outputId": "ea5c7188-d1b6-4285-962f-9f65c70a49f7"
      },
      "source": [
        "# What is the mean salary of this dataset?\n",
        "from pyspark.sql.functions import avg\n",
        "df.select(avg(\"salary\")).show()"
      ],
      "execution_count": null,
      "outputs": [
        {
          "output_type": "stream",
          "text": [
            "+-----------+\n",
            "|avg(salary)|\n",
            "+-----------+\n",
            "|     77.738|\n",
            "+-----------+\n",
            "\n"
          ],
          "name": "stdout"
        }
      ]
    },
    {
      "cell_type": "code",
      "metadata": {
        "colab": {
          "base_uri": "https://localhost:8080/"
        },
        "id": "9vn-QUW1dOAl",
        "outputId": "0c4a49cb-99e0-4881-bb0e-0367702d90e5"
      },
      "source": [
        "# What is the max and min of the Salary column?\n",
        "from pyspark.sql.functions import max, min\n",
        "df.select(max(\"salary\"),min(\"salary\")).show()"
      ],
      "execution_count": 43,
      "outputs": [
        {
          "output_type": "stream",
          "text": [
            "+-----------+-----------+\n",
            "|max(salary)|min(salary)|\n",
            "+-----------+-----------+\n",
            "|         90|         65|\n",
            "+-----------+-----------+\n",
            "\n"
          ],
          "name": "stdout"
        }
      ]
    },
    {
      "cell_type": "code",
      "metadata": {
        "id": "zbF-4FWkdQJm",
        "colab": {
          "base_uri": "https://localhost:8080/"
        },
        "outputId": "9cd94720-461a-4b2d-cb5c-086735f4e738"
      },
      "source": [
        "# Show all of the occupations where salaries were above 80k\n",
        "df.filter(df[\"salary\"] > 80).show()"
      ],
      "execution_count": 46,
      "outputs": [
        {
          "output_type": "stream",
          "text": [
            "+---+--------------------+---+------------+---------+--------+--------------------+---------------+------+-------------+\n",
            "| id|                name|age|height_meter|weight_kg|children|          occupation|academic_degree|salary|     location|\n",
            "+---+--------------------+---+------------+---------+--------+--------------------+---------------+------+-------------+\n",
            "|  3|        Jazmine Hunt| 61|        1.79|       89|       0|              Hawker|            PhD|    88|    Louisiana|\n",
            "|  4|      Remedios Gomez| 23|        1.64|       51|       2|       Choreographer|       Bachelor|    83|West Virginia|\n",
            "|  8|Charlesetta Steve...| 30|        1.62|       44|       3|          Millwright|         Master|    87|    Louisiana|\n",
            "| 11|      Shawnee Harmon| 66|        1.63|       78|       5|   Medical Physicist|            PhD|    90|     Delaware|\n",
            "| 17|   Bernardina Strong| 34|        1.55|       78|       1|           Scientist|            PhD|    90| South Dakota|\n",
            "| 21|      Kemberly Yates| 41|        1.75|       49|       4|     Claims Adjustor|            PhD|    83|     Delaware|\n",
            "| 29|          Tran Hurst| 56|        1.56|       52|       0| Planning Technician|       Bachelor|    85|     Delaware|\n",
            "| 30|     Zenobia Delgado| 52|        1.79|       38|       0|       Booking Clerk|       Bachelor|    88|     Delaware|\n",
            "| 32|          Laine Odom| 35|        1.74|       72|       1|      Sub-Postmaster|       Bachelor|    85|    Louisiana|\n",
            "| 33|     Shonna Schwartz| 32|         1.7|       44|       0|        Shelf Filler|         Master|    86|       Alaska|\n",
            "| 34|         Renda Hicks| 67|        1.73|       84|       0|             Chemist|       Bachelor|    89| South Dakota|\n",
            "| 37|    Celestina Hudson| 31|         1.9|       73|       0|        Betting Shop|            PhD|    83|       Alaska|\n",
            "| 38|        Willena Snow| 31|        1.51|       43|       1|     Hire Car Driver|         Master|    85|West Virginia|\n",
            "| 39|        Sunday Kelly| 43|        1.61|       63|       0|    Heating Engineer|         Master|    85|West Virginia|\n",
            "| 41|         Susy Castro| 33|        1.59|       51|       0|    Vehicle Assessor|       Bachelor|    88|    Louisiana|\n",
            "| 43|        Britta Wolfe| 45|        1.75|       49|       0|   Building Surveyor|            PhD|    83|West Virginia|\n",
            "| 47|       Leisha Jacobs| 27|        1.66|       86|       0|Advertising Contr...|         Master|    85|     Delaware|\n",
            "| 51|        Zofia Franco| 34|        1.97|       44|       1|   Medical Physicist|       Bachelor|    82| South Dakota|\n",
            "| 52|          Dani Reyes| 61|        1.78|       55|       2|            Labourer|            PhD|    88| South Dakota|\n",
            "| 53|         Margy Craig| 61|        1.84|       54|       4|   Technical Analyst|         Master|    82|       Alaska|\n",
            "+---+--------------------+---+------------+---------+--------+--------------------+---------------+------+-------------+\n",
            "only showing top 20 rows\n",
            "\n"
          ],
          "name": "stdout"
        }
      ]
    },
    {
      "cell_type": "code",
      "metadata": {
        "id": "gKTOoej7dRpG",
        "colab": {
          "base_uri": "https://localhost:8080/"
        },
        "outputId": "c5f3e639-1a2d-421e-ebcf-cea9fe942ce2"
      },
      "source": [
        "# BONUS\n",
        "# What is the average age and height for each academic degree type?\n",
        "# HINT: You will need to use `groupby` to solve this\n",
        "df.groupby(\"academic_degree\").avg(\"age\").show()"
      ],
      "execution_count": 52,
      "outputs": [
        {
          "output_type": "stream",
          "text": [
            "+---------------+------------------+\n",
            "|academic_degree|          avg(age)|\n",
            "+---------------+------------------+\n",
            "|            PhD| 43.15976331360947|\n",
            "|         Master|43.139318885448915|\n",
            "|       Bachelor| 42.51032448377581|\n",
            "+---------------+------------------+\n",
            "\n"
          ],
          "name": "stdout"
        }
      ]
    },
    {
      "cell_type": "code",
      "metadata": {
        "id": "ievrYcKHdTDN"
      },
      "source": [
        ""
      ],
      "execution_count": null,
      "outputs": []
    }
  ]
}